{
 "cells": [
  {
   "cell_type": "code",
   "execution_count": 1,
   "id": "48607914-1fbc-4098-a30f-41a611afb8ba",
   "metadata": {},
   "outputs": [
    {
     "name": "stderr",
     "output_type": "stream",
     "text": [
      "/Library/Frameworks/Python.framework/Versions/3.11/lib/python3.11/site-packages/tqdm/auto.py:21: TqdmWarning: IProgress not found. Please update jupyter and ipywidgets. See https://ipywidgets.readthedocs.io/en/stable/user_install.html\n",
      "  from .autonotebook import tqdm as notebook_tqdm\n",
      "[nltk_data] Downloading package stopwords to\n",
      "[nltk_data]     /Users/sangeethavempati/nltk_data...\n",
      "[nltk_data]   Package stopwords is already up-to-date!\n"
     ]
    }
   ],
   "source": [
    "from indra_cogex.sources.odinson.grammars import Rule\n",
    "from indra_cogex.sources.odinson.client import process_rules\n",
    "import gilda\n",
    "import pandas as pd\n",
    "from collections import defaultdict\n",
    "from gilda.process import normalize\n",
    "from tqdm.auto import tqdm\n",
    "from pyobo.gilda_utils import get_gilda_terms\n",
    "import numpy as np\n",
    "import nltk\n",
    "nltk.download('stopwords')\n",
    "from nltk.corpus import stopwords\n",
    "import textwrap\n",
    "import random\n",
    "import difflib"
   ]
  },
  {
   "cell_type": "code",
   "execution_count": 2,
   "id": "77d10c26-6443-4462-b48d-0e7c3a2aa5c9",
   "metadata": {},
   "outputs": [
    {
     "name": "stderr",
     "output_type": "stream",
     "text": [
      "[UBERON] mapping: 100%|██████████████████| 14.5k/14.5k [00:00<00:00, 239kname/s]\n",
      "[UBERON] mapping: 100%|██████████████| 9.84k/9.84k [00:00<00:00, 72.3ksynonym/s]\n",
      "[fma] mapping: 100%|█████████████████████| 79.0k/79.0k [00:00<00:00, 252kname/s]\n",
      "[fma] mapping: 100%|█████████████████| 29.8k/29.8k [00:00<00:00, 90.4ksynonym/s]\n"
     ]
    }
   ],
   "source": [
    "import spine_ner\n",
    "grounder = spine_ner.grounder\n"
   ]
  },
  {
   "cell_type": "code",
   "execution_count": 3,
   "id": "2a0be87f-00ea-4671-a97b-0112a343953a",
   "metadata": {},
   "outputs": [
    {
     "name": "stdout",
     "output_type": "stream",
     "text": [
      "26244\n",
      "170100\n"
     ]
    }
   ],
   "source": [
    "from itertools import product\n",
    "import rule_gen \n",
    "\n",
    "directions = rule_gen.directions\n",
    "advb = rule_gen.advb\n",
    "noun_case_f = rule_gen.noun_case_f\n",
    "lemmas_br_br = rule_gen.lemmas_br_br\n",
    "lemmas_br_ph = rule_gen.lemmas_br_ph\n",
    "fromto = rule_gen.fromto\n",
    "from_to_ph = rule_gen.from_to_ph\n",
    "damage = rule_gen.damage\n",
    "noun_inputs = rule_gen.noun_inputs\n",
    "phenotype_f = rule_gen.phenotype_f\n",
    "\n",
    "binary_rules = []\n",
    "ph_rules = []\n",
    "\n",
    "br_br_rules = [rule_gen.create_br_br_rules(noun_type1,noun_input1,lemma,word,noun_type2,noun_input2) for noun_type1,noun_input1,lemma,word,noun_type2,noun_input2 in product(noun_case_f,noun_inputs,lemmas_br_br,fromto,noun_case_f,noun_inputs)]\n",
    "\n",
    "br_ph_rules = [rule_gen.create_br_ph_rules(region,noun_input,lemma,damage,word,phenotype) for region,noun_input,lemma,damage,word,phenotype in product(noun_case_f,noun_inputs,lemmas_br_ph,damage,from_to_ph,phenotype_f)]\n",
    "\n",
    "\n",
    "for rule_set in br_br_rules:\n",
    "    for individual_rule in rule_set:\n",
    "        binary_rules.append(individual_rule)\n",
    "\n",
    "for rule_set in br_ph_rules:\n",
    "    for individual_rule in rule_set:\n",
    "        ph_rules.append(individual_rule)\n",
    "\n",
    "\n",
    "print(len(binary_rules))\n",
    "print(len(ph_rules))\n",
    "binary_rules = binary_rules[0:200]\n",
    "ph_rules = binary_rules[0:200]\n"
   ]
  },
  {
   "cell_type": "code",
   "execution_count": 4,
   "id": "f728f4f0-5e73-4532-99a6-1a3eb343fad9",
   "metadata": {},
   "outputs": [
    {
     "name": "stderr",
     "output_type": "stream",
     "text": [
      "[nltk_data] Downloading package stopwords to\n",
      "[nltk_data]     /Users/sangeethavempati/nltk_data...\n",
      "[nltk_data]   Package stopwords is already up-to-date!\n"
     ]
    }
   ],
   "source": [
    "import stop_words \n",
    "\n",
    "sw_nltk = stop_words.sw_nltk\n",
    "false_phrases = stop_words.false_phrases\n",
    "exclude_words = stop_words.exclude_words"
   ]
  },
  {
   "cell_type": "code",
   "execution_count": 107,
   "id": "b860d51b-148f-41eb-ae04-b427bb787ba8",
   "metadata": {
    "scrolled": true
   },
   "outputs": [
    {
     "name": "stderr",
     "output_type": "stream",
     "text": [
      "100%|█████████████████████████████████████████| 200/200 [00:16<00:00, 12.41it/s]"
     ]
    },
    {
     "name": "stdout",
     "output_type": "stream",
     "text": [
      "854\n"
     ]
    },
    {
     "name": "stderr",
     "output_type": "stream",
     "text": [
      "\n"
     ]
    }
   ],
   "source": [
    "relations = []\n",
    "#readable_sentences = []\n",
    "#go through each rule and make it a rule object\n",
    "for rule_text in tqdm(binary_rules):\n",
    "    #print(rule_text)\n",
    "    rule = Rule(\"anatomical connection\", \"Exp\", \"basic\", rule_text)\n",
    "    #make sure it is a functional Odinson rule\n",
    "    try:\n",
    "        rule_output = process_rules([rule],\"http://localhost:9000\")\n",
    "    #print(rule_output)\n",
    "    \n",
    "    except Exception as e:\n",
    "        print('failed', rule)\n",
    "        print(e)\n",
    "    '''\n",
    "    with open('failed rules.txt', 'a') as file:\n",
    "        #file.write('failed' + '\\n')\n",
    "        file.write(str(rule))\n",
    "    continue\n",
    "    '''\n",
    "    #get the start and end characters for each term pulled out by the rule\n",
    "    for sentence in rule_output['mentions']:\n",
    "        #print(sentence)\n",
    "        relation = ()\n",
    "        words = sentence['words']\n",
    "        string_words = ' '.join(words)\n",
    "        #readable_sentences += [string_words]\n",
    "        for element in sentence['match']:  \n",
    "            for entity in element['namedCaptures']:\n",
    "                #print(entity)\n",
    "                start = entity['capturedMatch']['start']\n",
    "                end = entity['capturedMatch']['end']\n",
    "                #remove stop words\n",
    "                processed_term = [word for word in words[start:end] if word.lower() not in sw_nltk and word.lower() not in false_phrases and word.lower() not in exclude_words]\n",
    "                word = ' '.join(processed_term)\n",
    "                #create tuples with curies for terms that can be grounded\n",
    "                spine_scored_match = grounder.ground(word)\n",
    "                gilda_scored_match = gilda.ground(word)\n",
    "                if len(gilda_scored_match)>0:\n",
    "                    best_curie = gilda_scored_match[0].term.get_curie()\n",
    "                elif len(spine_scored_match)>0:\n",
    "                    best_curie = spine_scored_match[0].term.get_curie()\n",
    "                else:\n",
    "                    best_curie = None\n",
    "                relation += ((best_curie, word),)  \n",
    "        if len(relation) > 1:\n",
    "            relations.append(relation)\n",
    "\n",
    "print(len(relations))\n",
    "#print(readable_sentences)"
   ]
  },
  {
   "cell_type": "code",
   "execution_count": null,
   "id": "419dff32-2ad4-4d94-8e2e-08b950417f24",
   "metadata": {},
   "outputs": [],
   "source": [
    "#create a sample set of 20 random sentences\n",
    "sample_set = random.sample(readable_sentences,20)\n",
    "\n",
    "with open('sample_20.txt', 'w') as f:\n",
    "    for sentence in sample_set:\n",
    "        f.write(sentence + '\\n')"
   ]
  },
  {
   "cell_type": "code",
   "execution_count": 83,
   "id": "d16e2cef-1162-4b86-8175-cf8830f6833e",
   "metadata": {},
   "outputs": [],
   "source": [
    "#create a ranked list of terms\n",
    "import csv\n",
    "import numpy as np\n",
    "\n",
    "'''with open('relations.csv', 'w') as f:\n",
    "    write = csv.writer(f)\n",
    "    write.writerows(relations)'''\n",
    "terms = []\n",
    "for set in relations:\n",
    "    for term in set:\n",
    "        terms.append(term[1])\n",
    "\n",
    "        \n",
    "new_relations = np.array(terms)\n",
    "\n",
    "ranked = pd.value_counts(new_relations)\n",
    "\n",
    "value_counts_df = ranked.reset_index()\n",
    "value_counts_df.columns = ['Value', 'Count']\n",
    "\n",
    "with open('relations.csv', 'w') as f:\n",
    "    value_counts_df.to_csv(f, index=False)"
   ]
  },
  {
   "cell_type": "code",
   "execution_count": null,
   "id": "0d7d4ba4-b281-405d-8359-fd7ebc5a9284",
   "metadata": {},
   "outputs": [],
   "source": [
    "#create a csv file of all relations\n",
    "with open('relation_full.csv', 'w', newline='') as f:    \n",
    "    csv_writer = csv.writer(f)\n",
    "\n",
    "    for relation1, relation2 in relations:\n",
    "        term_of_inner_tuple1 = relation1[1]\n",
    "        term_of_inner_tuple2 = relation2[1]\n",
    "        print(term_of_inner_tuple1,term_of_inner_tuple2)\n",
    "        csv_writer.writerow([term_of_inner_tuple1, term_of_inner_tuple2])\n"
   ]
  },
  {
   "cell_type": "code",
   "execution_count": null,
   "id": "fc3c3b7c-6612-47be-b4a6-82feeef90a7e",
   "metadata": {},
   "outputs": [],
   "source": [
    "#create an interaction map of relationships between brain region terms\n",
    "#!pip install matplotlib\n",
    "import networkx as nx\n",
    "import pygraphviz as pgv\n",
    "import matplotlib.pyplot as plt\n",
    "G = nx.Graph()\n",
    "plt.figure(figsize=(20,20))\n",
    "G.add_edges_from(relations, len=4)\n",
    "\n",
    "pos = nx.nx_agraph.graphviz_layout(G, prog='neato')\n",
    "#labels = {n: n[1] for n in G.nodes()}\n",
    "labels = {}\n",
    "for k in pos.keys():\n",
    "    labels[k] = k[1]\n",
    "\n",
    "'''\n",
    "for label in labels.values():\n",
    "    textwrap.wrap(label, width = 10)\n",
    "    print(label)\n",
    "'''\n",
    "#G = nx.relabel_nodes(G, labels)\n",
    "#nx.draw_networkx_labels(G, pos, labels, font_size=22, font_color=\"black\")\n",
    "nx.draw_networkx_nodes(G, pos, node_size=100, node_color='white', node_shape='o')\n",
    "nx.draw_networkx_edges(G, pos, width=1.0, edge_color='grey', style='solid')\n",
    "labels = nx.draw_networkx_labels(G, pos, labels = labels, font_size=8, font_color='k', font_family='sans-serif', font_weight='normal')\n",
    "print()"
   ]
  },
  {
   "cell_type": "code",
   "execution_count": null,
   "id": "7ab540d4-edef-4af1-9792-baeb1afd093d",
   "metadata": {},
   "outputs": [],
   "source": [
    "scoredmatches = gilda.ground('ER')\n",
    "scoredmatches[0].term.get_curie()"
   ]
  },
  {
   "cell_type": "code",
   "execution_count": null,
   "id": "bc1eaf11-399c-4514-82f5-388f7e6b65ce",
   "metadata": {},
   "outputs": [],
   "source": [
    "benchmark_url = ('https://docs.google.com/spreadsheets/d/e/2PACX-1vS6uvih2Hi7dIo9Nabk5gv2kz67avmHpiWvqtNOKxrr43WhxSCBwzyq'\n",
    "'lLvi841Vx3f1LoF7GF_5Cff3/pub?output=tsv')\n",
    "benchmark_df = pd.read_csv(benchmark_url, sep='\\t')\n",
    "subject = gilda.ground_df(benchmark_df, 'subject', grounder=grounder)\n",
    "object = gilda.ground_df(benchmark_df, 'object', grounder=grounder)\n",
    "\n",
    "benchmark_df\n"
   ]
  }
 ],
 "metadata": {
  "kernelspec": {
   "display_name": "Python 3 (ipykernel)",
   "language": "python",
   "name": "python3"
  },
  "language_info": {
   "codemirror_mode": {
    "name": "ipython",
    "version": 3
   },
   "file_extension": ".py",
   "mimetype": "text/x-python",
   "name": "python",
   "nbconvert_exporter": "python",
   "pygments_lexer": "ipython3",
   "version": "3.11.5"
  }
 },
 "nbformat": 4,
 "nbformat_minor": 5
}
