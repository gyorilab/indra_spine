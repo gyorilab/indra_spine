{
 "cells": [
  {
   "cell_type": "code",
   "execution_count": 5,
   "id": "a9ce25aa-919c-4b00-8e9a-e83d68c1ac1d",
   "metadata": {},
   "outputs": [
    {
     "name": "stdout",
     "output_type": "stream",
     "text": [
      "Collecting cachetools\n",
      "  Using cached cachetools-5.3.3-py3-none-any.whl.metadata (5.3 kB)\n",
      "Using cached cachetools-5.3.3-py3-none-any.whl (9.3 kB)\n",
      "Installing collected packages: cachetools\n",
      "Successfully installed cachetools-5.3.3\n"
     ]
    }
   ],
   "source": [
    "!pip install cachetools\n",
    "from indra_db import get_db\n",
    "from indra_db.client.principal.content import get_text\n",
    "import csv"
   ]
  },
  {
   "cell_type": "code",
   "execution_count": 6,
   "id": "ae16e4a7-b1da-4833-a552-2e1983e14143",
   "metadata": {},
   "outputs": [],
   "source": [
    "import indra\n",
    "import requests\n",
    "import os\n",
    "from indra.literature import pubmed_client"
   ]
  },
  {
   "cell_type": "code",
   "execution_count": 9,
   "id": "8037f320-a223-462f-a98b-abe8ea118bfa",
   "metadata": {},
   "outputs": [
    {
     "data": {
      "text/plain": [
       "149570"
      ]
     },
     "execution_count": 9,
     "metadata": {},
     "output_type": "execute_result"
    }
   ],
   "source": [
    "#get a list of pubmed IDs for the search term (117)\n",
    "ids = pubmed_client.get_all_ids('fatigue')\n",
    "len(ids)"
   ]
  },
  {
   "cell_type": "code",
   "execution_count": 4,
   "id": "dc0e9bef",
   "metadata": {},
   "outputs": [],
   "source": [
    "with open(\"ids.txt\", \"w\") as file:\n",
    "    for id in ids:\n",
    "        file.write(id + \"\\n\")"
   ]
  },
  {
   "cell_type": "code",
   "execution_count": 3,
   "id": "70f59dc3-1821-4fe1-b0d4-43457b2fc736",
   "metadata": {},
   "outputs": [],
   "source": [
    "with open(\"ids.txt\", \"r\") as file:\n",
    "    ids = [line.strip() for line in file.readlines()]"
   ]
  },
  {
   "cell_type": "code",
   "execution_count": 10,
   "id": "4f0aad5b-f16a-4adf-81b0-995149d57746",
   "metadata": {},
   "outputs": [
    {
     "name": "stdout",
     "output_type": "stream",
     "text": [
      "['119', '1285', '1473', '1987']\n",
      "157609\n"
     ]
    }
   ],
   "source": [
    "print(ids[0:4])\n",
    "print(len(ids))"
   ]
  },
  {
   "cell_type": "code",
   "execution_count": 5,
   "id": "ae330423-f00d-4412-aa45-cc11a136f041",
   "metadata": {},
   "outputs": [],
   "source": [
    "from indra_db.config import get_databases\n",
    "defaults = get_databases()\n",
    "db_url = defaults['primary']"
   ]
  },
  {
   "cell_type": "code",
   "execution_count": 6,
   "id": "cf7f1636-9027-4c75-b2ad-1cb02ebd40e3",
   "metadata": {},
   "outputs": [],
   "source": [
    "from indra_db.databases import PrincipalDatabaseManager\n",
    "db_label = 'primary'\n",
    "protected = False\n",
    "db = PrincipalDatabaseManager(db_url, label=db_label, protected=protected)"
   ]
  },
  {
   "cell_type": "code",
   "execution_count": 5,
   "id": "4e2c6d89-4aed-42c2-8abc-a51e01333245",
   "metadata": {},
   "outputs": [
    {
     "ename": "NameError",
     "evalue": "name 'create_engine' is not defined",
     "output_type": "error",
     "traceback": [
      "\u001b[0;31m---------------------------------------------------------------------------\u001b[0m",
      "\u001b[0;31mNameError\u001b[0m                                 Traceback (most recent call last)",
      "Cell \u001b[0;32mIn[5], line 1\u001b[0m\n\u001b[0;32m----> 1\u001b[0m \u001b[43mcreate_engine\u001b[49m(\n\u001b[1;32m      2\u001b[0m     \u001b[38;5;28mself\u001b[39m\u001b[38;5;241m.\u001b[39murl,\n\u001b[1;32m      3\u001b[0m     connect_args\u001b[38;5;241m=\u001b[39m{\u001b[38;5;124m'\u001b[39m\u001b[38;5;124mconnect_timeout\u001b[39m\u001b[38;5;124m'\u001b[39m: \u001b[38;5;241m1\u001b[39m}\n\u001b[1;32m      4\u001b[0m )\u001b[38;5;241m.\u001b[39mexecute(\u001b[38;5;124m'\u001b[39m\u001b[38;5;124mSELECT 1 AS ping;\u001b[39m\u001b[38;5;124m'\u001b[39m)\n",
      "\u001b[0;31mNameError\u001b[0m: name 'create_engine' is not defined"
     ]
    }
   ],
   "source": [
    "\n",
    "create_engine(\n",
    "    self.url,\n",
    "    connect_args={'connect_timeout': 1}\n",
    ").execute('SELECT 1 AS ping;')"
   ]
  },
  {
   "cell_type": "code",
   "execution_count": 7,
   "id": "3ef7ee56-106c-459e-ac5b-a82616a5207c",
   "metadata": {},
   "outputs": [],
   "source": [
    "import os\n",
    "os.chdir('/Users/sangeethavempati/Documents/db_testing/text')\n",
    "\n",
    "db = get_db('primary')\n",
    "text = get_text(db, ids, 'abstract')"
   ]
  },
  {
   "cell_type": "code",
   "execution_count": 11,
   "id": "a57c0819-c545-4085-b777-c75dfb57cf71",
   "metadata": {},
   "outputs": [
    {
     "data": {
      "text/plain": [
       "148255"
      ]
     },
     "execution_count": 11,
     "metadata": {},
     "output_type": "execute_result"
    }
   ],
   "source": [
    "len(text)"
   ]
  },
  {
   "cell_type": "code",
   "execution_count": 9,
   "id": "729fed96-ca60-4cd0-8a9a-75aa072ea8a4",
   "metadata": {},
   "outputs": [],
   "source": [
    "for pmid,content in text.items():\n",
    "    with open('{}.txt'.format(pmid),'w') as file:\n",
    "        file.write(content)"
   ]
  }
 ],
 "metadata": {
  "kernelspec": {
   "display_name": "Python 3 (ipykernel)",
   "language": "python",
   "name": "python3"
  },
  "language_info": {
   "codemirror_mode": {
    "name": "ipython",
    "version": 3
   },
   "file_extension": ".py",
   "mimetype": "text/x-python",
   "name": "python",
   "nbconvert_exporter": "python",
   "pygments_lexer": "ipython3",
   "version": "3.11.5"
  }
 },
 "nbformat": 4,
 "nbformat_minor": 5
}
