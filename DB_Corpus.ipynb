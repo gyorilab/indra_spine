{
 "cells": [
  {
   "cell_type": "code",
   "execution_count": 1,
   "id": "a9ce25aa-919c-4b00-8e9a-e83d68c1ac1d",
   "metadata": {},
   "outputs": [
    {
     "name": "stdout",
     "output_type": "stream",
     "text": [
      "Requirement already satisfied: cachetools in /Users/sangeethavempati/.virtualenvs/newnotebook2/lib/python3.11/site-packages (5.3.3)\n",
      "\n",
      "\u001b[1m[\u001b[0m\u001b[34;49mnotice\u001b[0m\u001b[1;39;49m]\u001b[0m\u001b[39;49m A new release of pip is available: \u001b[0m\u001b[31;49m24.0\u001b[0m\u001b[39;49m -> \u001b[0m\u001b[32;49m24.2\u001b[0m\n",
      "\u001b[1m[\u001b[0m\u001b[34;49mnotice\u001b[0m\u001b[1;39;49m]\u001b[0m\u001b[39;49m To update, run: \u001b[0m\u001b[32;49mpip install --upgrade pip\u001b[0m\n"
     ]
    }
   ],
   "source": [
    "!pip install cachetools\n",
    "from indra_db import get_db\n",
    "from indra_db.client.principal.content import get_text\n",
    "import csv"
   ]
  },
  {
   "cell_type": "code",
   "execution_count": 2,
   "id": "ae16e4a7-b1da-4833-a552-2e1983e14143",
   "metadata": {},
   "outputs": [],
   "source": [
    "import indra\n",
    "import requests\n",
    "import os\n",
    "from indra.literature import pubmed_client"
   ]
  },
  {
   "cell_type": "code",
   "execution_count": 3,
   "id": "8037f320-a223-462f-a98b-abe8ea118bfa",
   "metadata": {},
   "outputs": [
    {
     "ename": "AttributeError",
     "evalue": "module 'indra.literature.pubmed_client' has no attribute 'get_all_ids'",
     "output_type": "error",
     "traceback": [
      "\u001b[0;31m---------------------------------------------------------------------------\u001b[0m",
      "\u001b[0;31mAttributeError\u001b[0m                            Traceback (most recent call last)",
      "Cell \u001b[0;32mIn[3], line 2\u001b[0m\n\u001b[1;32m      1\u001b[0m \u001b[38;5;66;03m#get a list of pubmed IDs for the search term (117)\u001b[39;00m\n\u001b[0;32m----> 2\u001b[0m ids \u001b[38;5;241m=\u001b[39m \u001b[43mpubmed_client\u001b[49m\u001b[38;5;241;43m.\u001b[39;49m\u001b[43mget_all_ids\u001b[49m(\u001b[38;5;124m'\u001b[39m\u001b[38;5;124mfatigue\u001b[39m\u001b[38;5;124m'\u001b[39m)\n",
      "\u001b[0;31mAttributeError\u001b[0m: module 'indra.literature.pubmed_client' has no attribute 'get_all_ids'"
     ]
    }
   ],
   "source": [
    "#get a list of pubmed IDs for the search term (117)\n",
    "ids = pubmed_client.get_all_ids('fatigue')"
   ]
  },
  {
   "cell_type": "code",
   "execution_count": null,
   "id": "dc0e9bef",
   "metadata": {},
   "outputs": [],
   "source": [
    "with open(\"ids.txt\", \"w\") as file:\n",
    "    for id in ids:\n",
    "        file.write(id + \"\\n\")"
   ]
  },
  {
   "cell_type": "code",
   "execution_count": null,
   "id": "70f59dc3-1821-4fe1-b0d4-43457b2fc736",
   "metadata": {},
   "outputs": [],
   "source": [
    "with open(\"ids.txt\", \"r\") as file:\n",
    "    ids = [line.strip() for line in file.readlines()]"
   ]
  },
  {
   "cell_type": "code",
   "execution_count": null,
   "id": "ae330423-f00d-4412-aa45-cc11a136f041",
   "metadata": {},
   "outputs": [],
   "source": [
    "from indra_db.config import get_databases\n",
    "defaults = get_databases()\n",
    "db_url = defaults['primary']"
   ]
  },
  {
   "cell_type": "code",
   "execution_count": null,
   "id": "cf7f1636-9027-4c75-b2ad-1cb02ebd40e3",
   "metadata": {},
   "outputs": [],
   "source": [
    "from indra_db.databases import PrincipalDatabaseManager\n",
    "db_label = 'primary'\n",
    "protected = False\n",
    "db = PrincipalDatabaseManager(db_url, label=db_label, protected=protected)"
   ]
  },
  {
   "cell_type": "code",
   "execution_count": null,
   "id": "3ef7ee56-106c-459e-ac5b-a82616a5207c",
   "metadata": {},
   "outputs": [],
   "source": [
    "import os\n",
    "os.makedirs('corpus', exist_ok=True)\n",
    "os.chdir('corpus')\n",
    "\n",
    "db = get_db('primary')\n",
    "text = get_text(db, ids, 'abstract')"
   ]
  },
  {
   "cell_type": "code",
   "execution_count": null,
   "id": "729fed96-ca60-4cd0-8a9a-75aa072ea8a4",
   "metadata": {},
   "outputs": [],
   "source": [
    "for pmid,content in text.items():\n",
    "    with open('{}.txt'.format(pmid),'w') as file:\n",
    "        file.write(content)"
   ]
  }
 ],
 "metadata": {
  "kernelspec": {
   "display_name": "Python 3 (ipykernel)",
   "language": "python",
   "name": "python3"
  },
  "language_info": {
   "codemirror_mode": {
    "name": "ipython",
    "version": 3
   },
   "file_extension": ".py",
   "mimetype": "text/x-python",
   "name": "python",
   "nbconvert_exporter": "python",
   "pygments_lexer": "ipython3",
   "version": "3.11.5"
  }
 },
 "nbformat": 4,
 "nbformat_minor": 5
}
