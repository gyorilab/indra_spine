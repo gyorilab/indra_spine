{
 "cells": [
  {
   "cell_type": "code",
   "execution_count": 4,
   "id": "a9ce25aa-919c-4b00-8e9a-e83d68c1ac1d",
   "metadata": {},
   "outputs": [
    {
     "name": "stdout",
     "output_type": "stream",
     "text": [
      "Requirement already satisfied: cachetools in /Users/sangeethavempati/.virtualenvs/newnotebook2/lib/python3.11/site-packages (5.3.3)\n",
      "\n",
      "\u001b[1m[\u001b[0m\u001b[34;49mnotice\u001b[0m\u001b[1;39;49m]\u001b[0m\u001b[39;49m A new release of pip is available: \u001b[0m\u001b[31;49m24.0\u001b[0m\u001b[39;49m -> \u001b[0m\u001b[32;49m24.2\u001b[0m\n",
      "\u001b[1m[\u001b[0m\u001b[34;49mnotice\u001b[0m\u001b[1;39;49m]\u001b[0m\u001b[39;49m To update, run: \u001b[0m\u001b[32;49mpip install --upgrade pip\u001b[0m\n"
     ]
    }
   ],
   "source": [
    "!pip install cachetools\n",
    "from indra_db import get_db\n",
    "from indra_db.client.principal.content import get_text\n",
    "import csv"
   ]
  },
  {
   "cell_type": "code",
   "execution_count": 5,
   "id": "ae16e4a7-b1da-4833-a552-2e1983e14143",
   "metadata": {},
   "outputs": [],
   "source": [
    "import indra\n",
    "import requests\n",
    "import os\n",
    "from indra.literature import pubmed_client"
   ]
  },
  {
   "cell_type": "code",
   "execution_count": 5,
   "id": "8037f320-a223-462f-a98b-abe8ea118bfa",
   "metadata": {},
   "outputs": [],
   "source": [
    "#get a list of pubmed IDs for the search term (117)\n",
    "ids = pubmed_client.get_all_ids('ataxia')"
   ]
  },
  {
   "cell_type": "code",
   "execution_count": 6,
   "id": "4ca0a25e",
   "metadata": {},
   "outputs": [
    {
     "data": {
      "text/plain": [
       "55345"
      ]
     },
     "execution_count": 6,
     "metadata": {},
     "output_type": "execute_result"
    }
   ],
   "source": [
    "len(ids)"
   ]
  },
  {
   "cell_type": "code",
   "execution_count": 7,
   "id": "dc0e9bef",
   "metadata": {},
   "outputs": [],
   "source": [
    "with open(\"ids.txt\", \"w\") as file:\n",
    "    for id in ids:\n",
    "        file.write(id + \"\\n\")"
   ]
  },
  {
   "cell_type": "code",
   "execution_count": 8,
   "id": "70f59dc3-1821-4fe1-b0d4-43457b2fc736",
   "metadata": {},
   "outputs": [],
   "source": [
    "with open(\"ids.txt\", \"r\") as file:\n",
    "    ids = [line.strip() for line in file.readlines()[:10]]"
   ]
  },
  {
   "cell_type": "code",
   "execution_count": 9,
   "id": "ef41b377-6a7d-4391-8397-fb118685f832",
   "metadata": {},
   "outputs": [
    {
     "data": {
      "text/plain": [
       "10"
      ]
     },
     "execution_count": 9,
     "metadata": {},
     "output_type": "execute_result"
    }
   ],
   "source": [
    "len(ids)"
   ]
  },
  {
   "cell_type": "code",
   "execution_count": 10,
   "id": "415ac62c-56a0-40e8-b9b1-7f9d8995b0d4",
   "metadata": {},
   "outputs": [],
   "source": [
    "db = get_db('primary')\n",
    "text = get_text(db, ids, 'abstract')"
   ]
  },
  {
   "cell_type": "code",
   "execution_count": 11,
   "id": "095ab85c-f449-4dfd-8475-655358590384",
   "metadata": {},
   "outputs": [
    {
     "name": "stdout",
     "output_type": "stream",
     "text": [
      "{'6289': 'Using a food-reinforced two-lever operant method, rats (n = 12) were trained to discriminate chlordiazepoxide (5 mg/kg, p.o.) from solvent (p.o.). With rats trained thus as subjects, generalization experiments were done with various benzodiazepines, barbiturates and related compounds, and with two neuroleptic drugs. The ability of these drugs to induce a discriminative stimulus complex similar to that induced by chlordiazepoxide, was then compared with some intrinsic and anticonvulsant effects of the same drugs. It was found that the discriminative stimulus properties of benzodiazepines, barbiturates, and related compounds correlate with the ability of these drugs to induce ataxia, as well as with part of their anticonvulsant activity. However, the stimulus properties of these drugs, as defined by the procedure described, are based neither on their ataxia-inducing effect, nor on their general depressant or sedative action. It is concluded that these properties constitute a pharmacologically highly specific phenomenon.', '8592': \"Physiological and pharmacological studies of more than 150 patients with movement disorders are reported. Particular attention is paid to the differentiation of various types of tremor on the basis of rate, rhythm, and pattern of EMG activity in antagonistic muscles. The typical 'tremor-at-rest' of Parkinson's disease--3-7 Hz activity which alternates between antagonistic muscles--is suppressed, at least briefly, during voluntary activity, at which time typical 8--12 Hz 'physiological tremor' may be seen. Essential tremor and its familial or senile variants also have a characteristic EMG pattern during voluntary activity--5-8 Hz bursts of activity which are synchronous in antagonistic muscles. This type of tremor may also be present in patients with Parkinson's disease and in certain kinships with a Charcot-Marie-Tooth polyneuropathy. Other tremors in association with polyneuropathy ('neuropathic tremor') have different physiological characteristics. Myoclonus is of essentially two types ('positive' with EMG bursts and 'negative' with brief pauses in ongoing activity, as with asterixis) and may, at times, mimic tremor. Certain specific tremors respond predictably to specific pharmacological therapy.\", '10587': \"Medicine is an experimental science which proceeds by trial and error, and with pharmacotherapy doctors must continually review the drugs at their disposal for both effectiveness and adverse effects. These adverse effects must be assessed not only in relation to the therapeutic effect, but also, of course, in relation to the severity of the patient's illness and the likely prognosis in the absence of treatment. In this review I will select one or two side effects in each of the major group of drugs for consideration.\", '13411': 'Previous reports have indicated that alpha-MSH release inhibiting hormone (MIF-1) increased the behavior occurring as a result of the dihydroxyphenylalanine (DOPA) potentiation test [3,7]. This study was undertaken to see whether dopamine (DA) or norepinephrine (NE) levels likewise increased in the test animals. The DOPA potentiation test was performed as follows: 2-4 hr before behavior measurement, 40 mg/kg of the monoamine oxidase inhibitor pargyline HCl was given orally. Two hr later this was followed by the intraperitoneal (IP) injection of MIF-1 at doses of 0.1, 0.3 or 1.0 mg/kg. Behavioral measurement was begun after the IP injection of 200 mg/kg of dl-DOPA 1-2 hr after the MIF-1. The parameters included social interaction, aggressiveness, fighting, ataxia, jumping, defecation, urination and salivation. The animals were beheaded while the behavior was still increased and the striatal area removed, placed in aluminum foil, and kept at -50 degrees C until assayed. In general, especially among the younger animals, a significant correlation (p=0.05 to p=0.01) was found between the increased behavioral responses to MIF-I and the rise in DA. Because of a few exceptions to this correlation the possibility is suggested that MIF-I might also affect behavior by acting directly on the postsynaptic membrane thus bypassing any change in NE or DA which is known to increase cycli AMP in the striatum.', '19327': 'The present two-phase study was designed to determine the optimum hynotic dose of triazolam and to assess any evidence of acute tolerance. Subjective and objective data were used to assess hypnotic efficacy. In the dose-titration phase, the dose of triazolam was increased in 0-5 mg increments to the highest level tolerated by each individual patient. Maximum tolerable doses ranged between 0-5 and 3-0 mg; however, all subjects experienced maximum therapeutic effect at 1-5 mg triazolam. During the 4-night acute tolerance portion of the study no clear evidence of tolerance was found.'}\n"
     ]
    }
   ],
   "source": [
    "print(text)"
   ]
  },
  {
   "cell_type": "code",
   "execution_count": 2,
   "id": "ae330423-f00d-4412-aa45-cc11a136f041",
   "metadata": {},
   "outputs": [],
   "source": [
    "from indra_db.config import get_databases\n",
    "defaults = get_databases()\n",
    "db_url = defaults['primary']"
   ]
  },
  {
   "cell_type": "code",
   "execution_count": 3,
   "id": "cf7f1636-9027-4c75-b2ad-1cb02ebd40e3",
   "metadata": {},
   "outputs": [],
   "source": [
    "from indra_db.databases import PrincipalDatabaseManager\n",
    "db_label = 'primary'\n",
    "protected = False\n",
    "db = PrincipalDatabaseManager(db_url, label=db_label, protected=protected)"
   ]
  },
  {
   "cell_type": "code",
   "execution_count": null,
   "id": "3ef7ee56-106c-459e-ac5b-a82616a5207c",
   "metadata": {},
   "outputs": [],
   "source": [
    "import os\n",
    "os.makedirs('ataxia2', exist_ok=True)\n",
    "os.chdir('ataxia2')\n",
    "\n",
    "db = get_db('primary')\n",
    "text = get_text(db, ids, 'abstract')"
   ]
  },
  {
   "cell_type": "code",
   "execution_count": null,
   "id": "729fed96-ca60-4cd0-8a9a-75aa072ea8a4",
   "metadata": {},
   "outputs": [],
   "source": [
    "for pmid,content in text.items():\n",
    "    with open('{}.txt'.format(pmid),'w') as file:\n",
    "        file.write(content)"
   ]
  },
  {
   "cell_type": "code",
   "execution_count": 1,
   "id": "d91adb70-8829-4a3a-81f8-dbc253ba2d87",
   "metadata": {},
   "outputs": [
    {
     "name": "stdout",
     "output_type": "stream",
     "text": [
      "indradb-refresh.cvyak4iikv71.us-east-1.rds.amazonaws.com\n",
      "indradb-readonly-birch.cvyak4iikv71.us-east-1.rds.amazonaws.com\n"
     ]
    }
   ],
   "source": [
    "from indra_db import get_db, get_ro\n",
    "\n",
    "db = get_db('primary')\n",
    "assert db is not None\n",
    "print(db.url.host)\n",
    "\n",
    "ro = get_ro('primary')\n",
    "assert ro is not None\n",
    "print(ro.url.host)"
   ]
  }
 ],
 "metadata": {
  "kernelspec": {
   "display_name": "Python 3 (ipykernel)",
   "language": "python",
   "name": "python3"
  },
  "language_info": {
   "codemirror_mode": {
    "name": "ipython",
    "version": 3
   },
   "file_extension": ".py",
   "mimetype": "text/x-python",
   "name": "python",
   "nbconvert_exporter": "python",
   "pygments_lexer": "ipython3",
   "version": "3.11.5"
  }
 },
 "nbformat": 4,
 "nbformat_minor": 5
}
